{
 "cells": [
  {
   "cell_type": "code",
   "execution_count": 5,
   "id": "28deb91a-e42e-42be-9653-dc1d99485812",
   "metadata": {},
   "outputs": [
    {
     "name": "stdout",
     "output_type": "stream",
     "text": [
      "Defaulting to user installation because normal site-packages is not writeable\n",
      "Requirement already satisfied: nltk in c:\\programdata\\anaconda3\\lib\\site-packages (3.8.1)\n",
      "Requirement already satisfied: click in c:\\programdata\\anaconda3\\lib\\site-packages (from nltk) (8.1.7)\n",
      "Requirement already satisfied: joblib in c:\\programdata\\anaconda3\\lib\\site-packages (from nltk) (1.2.0)\n",
      "Requirement already satisfied: regex>=2021.8.3 in c:\\programdata\\anaconda3\\lib\\site-packages (from nltk) (2023.10.3)\n",
      "Requirement already satisfied: tqdm in c:\\programdata\\anaconda3\\lib\\site-packages (from nltk) (4.65.0)\n",
      "Requirement already satisfied: colorama in c:\\programdata\\anaconda3\\lib\\site-packages (from click->nltk) (0.4.6)\n"
     ]
    }
   ],
   "source": [
    "!pip install nltk"
   ]
  },
  {
   "cell_type": "code",
   "execution_count": 9,
   "id": "0315f972-ffe1-40a3-b5f1-9c4e0298a7c2",
   "metadata": {},
   "outputs": [
    {
     "name": "stdout",
     "output_type": "stream",
     "text": [
      "showing info https://raw.githubusercontent.com/nltk/nltk_data/gh-pages/index.xml\n"
     ]
    },
    {
     "data": {
      "text/plain": [
       "True"
      ]
     },
     "execution_count": 9,
     "metadata": {},
     "output_type": "execute_result"
    }
   ],
   "source": [
    "import nltk\n",
    "nltk.download()"
   ]
  },
  {
   "cell_type": "code",
   "execution_count": 10,
   "id": "e807c6f8-363b-4afc-a8fc-26ed32901f0b",
   "metadata": {},
   "outputs": [],
   "source": [
    "from sklearn.feature_extraction.text import TfidfVectorizer\n",
    "from nltk.corpus import stopwords\n",
    "from nltk.stem import PorterStemmer"
   ]
  },
  {
   "cell_type": "code",
   "execution_count": 11,
   "id": "e4fd9556-9178-45ea-8ea7-94310e86877c",
   "metadata": {},
   "outputs": [],
   "source": [
    "def preprocess_text(text):\n",
    "  \"\"\"\n",
    "  Preprocesses text by removing stop words, punctuation, and stemming words.\n",
    "  \"\"\"\n",
    "  stop_words = stopwords.words('english')\n",
    "  stemmer = PorterStemmer()\n",
    "  words = [stemmer.stem(word.lower()) for word in text.split() if word not in stop_words and word.isalnum()]\n",
    "  return \" \".join(words)\n",
    "\n",
    "def calculate_similarity(doc1, doc2):\n",
    "  \"\"\"\n",
    "  Calculates the cosine similarity between two preprocessed documents.\n",
    "  \"\"\"\n",
    "  vectorizer = TfidfVectorizer()\n",
    "  vectors = vectorizer.fit_transform([doc1, doc2])\n",
    "  similarity = (vectors * vectors.T).toarray()[0][1]\n",
    "  return similarity\n",
    "\n",
    "def compare_documents(documents):\n",
    "  \"\"\"\n",
    "  Compares a list of documents, returning a dictionary with similarity scores.\n",
    "  \"\"\"\n",
    "  similarity_scores = {}\n",
    "  reference_doc = documents[0]\n",
    "  for i, doc in enumerate(documents[1:]):\n",
    "    similarity = calculate_similarity(preprocess_text(reference_doc), preprocess_text(doc))\n",
    "    similarity_scores[f\"Document {i+1}\"] = similarity\n",
    "  average_score = sum(similarity_scores.values()) / len(similarity_scores)\n",
    "  return similarity_scores, average_score"
   ]
  },
  {
   "cell_type": "code",
   "execution_count": 14,
   "id": "0f0e59a2-7b01-4e01-8c44-b507f4ab3a3a",
   "metadata": {},
   "outputs": [
    {
     "name": "stdout",
     "output_type": "stream",
     "text": [
      "Similarity Scores:\n",
      "Document 1: 0.3563004293331381\n",
      "Average Similarity: 0.3563004293331381\n"
     ]
    }
   ],
   "source": [
    "# Example usage\n",
    "documents = [\"This is a sample document for comparison.\", \"This document is quite similar to the first one.\"]\n",
    "similarity_scores, average_score = compare_documents(documents)\n",
    "print(\"Similarity Scores:\")\n",
    "for doc_name, score in similarity_scores.items():\n",
    "  print(f\"{doc_name}: {score}\")\n",
    "print(f\"Average Similarity: {average_score}\")"
   ]
  },
  {
   "cell_type": "code",
   "execution_count": null,
   "id": "b42cfb69-6d8c-477d-8840-d7d22c00e5c1",
   "metadata": {},
   "outputs": [],
   "source": []
  }
 ],
 "metadata": {
  "kernelspec": {
   "display_name": "Python 3 (ipykernel)",
   "language": "python",
   "name": "python3"
  },
  "language_info": {
   "codemirror_mode": {
    "name": "ipython",
    "version": 3
   },
   "file_extension": ".py",
   "mimetype": "text/x-python",
   "name": "python",
   "nbconvert_exporter": "python",
   "pygments_lexer": "ipython3",
   "version": "3.11.7"
  }
 },
 "nbformat": 4,
 "nbformat_minor": 5
}
