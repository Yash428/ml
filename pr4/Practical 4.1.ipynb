{
 "cells": [
  {
   "cell_type": "code",
   "execution_count": 32,
   "id": "41417bc3-1758-41c9-87fd-b17f4980d5bd",
   "metadata": {},
   "outputs": [
    {
     "name": "stdout",
     "output_type": "stream",
     "text": [
      "Defaulting to user installation because normal site-packages is not writeable\n",
      "Collecting shap\n",
      "  Downloading shap-0.46.0-cp311-cp311-win_amd64.whl.metadata (25 kB)\n",
      "Requirement already satisfied: numpy in c:\\programdata\\anaconda3\\lib\\site-packages (from shap) (1.26.4)\n",
      "Requirement already satisfied: scipy in c:\\programdata\\anaconda3\\lib\\site-packages (from shap) (1.11.4)\n",
      "Requirement already satisfied: scikit-learn in c:\\users\\yash patel\\appdata\\roaming\\python\\python311\\site-packages (from shap) (1.5.0)\n",
      "Requirement already satisfied: pandas in c:\\programdata\\anaconda3\\lib\\site-packages (from shap) (2.1.4)\n",
      "Requirement already satisfied: tqdm>=4.27.0 in c:\\programdata\\anaconda3\\lib\\site-packages (from shap) (4.65.0)\n",
      "Requirement already satisfied: packaging>20.9 in c:\\programdata\\anaconda3\\lib\\site-packages (from shap) (23.1)\n",
      "Collecting slicer==0.0.8 (from shap)\n",
      "  Downloading slicer-0.0.8-py3-none-any.whl.metadata (4.0 kB)\n",
      "Requirement already satisfied: numba in c:\\programdata\\anaconda3\\lib\\site-packages (from shap) (0.59.0)\n",
      "Requirement already satisfied: cloudpickle in c:\\programdata\\anaconda3\\lib\\site-packages (from shap) (2.2.1)\n",
      "Requirement already satisfied: colorama in c:\\programdata\\anaconda3\\lib\\site-packages (from tqdm>=4.27.0->shap) (0.4.6)\n",
      "Requirement already satisfied: llvmlite<0.43,>=0.42.0dev0 in c:\\programdata\\anaconda3\\lib\\site-packages (from numba->shap) (0.42.0)\n",
      "Requirement already satisfied: python-dateutil>=2.8.2 in c:\\programdata\\anaconda3\\lib\\site-packages (from pandas->shap) (2.8.2)\n",
      "Requirement already satisfied: pytz>=2020.1 in c:\\programdata\\anaconda3\\lib\\site-packages (from pandas->shap) (2023.3.post1)\n",
      "Requirement already satisfied: tzdata>=2022.1 in c:\\programdata\\anaconda3\\lib\\site-packages (from pandas->shap) (2023.3)\n",
      "Requirement already satisfied: joblib>=1.2.0 in c:\\programdata\\anaconda3\\lib\\site-packages (from scikit-learn->shap) (1.2.0)\n",
      "Requirement already satisfied: threadpoolctl>=3.1.0 in c:\\users\\yash patel\\appdata\\roaming\\python\\python311\\site-packages (from scikit-learn->shap) (3.5.0)\n",
      "Requirement already satisfied: six>=1.5 in c:\\programdata\\anaconda3\\lib\\site-packages (from python-dateutil>=2.8.2->pandas->shap) (1.16.0)\n",
      "Downloading shap-0.46.0-cp311-cp311-win_amd64.whl (456 kB)\n",
      "   ---------------------------------------- 0.0/456.1 kB ? eta -:--:--\n",
      "   -- ------------------------------------- 30.7/456.1 kB 1.3 MB/s eta 0:00:01\n",
      "   ------- ------------------------------- 92.2/456.1 kB 744.7 kB/s eta 0:00:01\n",
      "   ------- ------------------------------- 92.2/456.1 kB 744.7 kB/s eta 0:00:01\n",
      "   -------- ----------------------------- 102.4/456.1 kB 454.0 kB/s eta 0:00:01\n",
      "   ------------ ------------------------- 153.6/456.1 kB 706.2 kB/s eta 0:00:01\n",
      "   -------------- ----------------------- 174.1/456.1 kB 655.4 kB/s eta 0:00:01\n",
      "   -------------- ----------------------- 174.1/456.1 kB 655.4 kB/s eta 0:00:01\n",
      "   -------------- ----------------------- 174.1/456.1 kB 655.4 kB/s eta 0:00:01\n",
      "   ------------------- ------------------ 235.5/456.1 kB 554.9 kB/s eta 0:00:01\n",
      "   ------------------- ------------------ 235.5/456.1 kB 554.9 kB/s eta 0:00:01\n",
      "   ---------------------- --------------- 266.2/456.1 kB 496.1 kB/s eta 0:00:01\n",
      "   ------------------------- ------------ 307.2/456.1 kB 527.5 kB/s eta 0:00:01\n",
      "   ----------------------------- -------- 348.2/456.1 kB 554.0 kB/s eta 0:00:01\n",
      "   ----------------------------- -------- 348.2/456.1 kB 554.0 kB/s eta 0:00:01\n",
      "   ------------------------------ ------- 368.6/456.1 kB 498.5 kB/s eta 0:00:01\n",
      "   ---------------------------------- --- 419.8/456.1 kB 569.7 kB/s eta 0:00:01\n",
      "   -------------------------------------  450.6/456.1 kB 563.8 kB/s eta 0:00:01\n",
      "   -------------------------------------  450.6/456.1 kB 563.8 kB/s eta 0:00:01\n",
      "   -------------------------------------- 456.1/456.1 kB 509.6 kB/s eta 0:00:00\n",
      "Downloading slicer-0.0.8-py3-none-any.whl (15 kB)\n",
      "Installing collected packages: slicer, shap\n",
      "Successfully installed shap-0.46.0 slicer-0.0.8\n"
     ]
    }
   ],
   "source": [
    "!pip install shap"
   ]
  },
  {
   "cell_type": "code",
   "execution_count": null,
   "id": "3cfc0c34-a2b9-4911-9004-1ac6e78c68df",
   "metadata": {},
   "outputs": [],
   "source": [
    "pip install ipywidgets==7.7.5"
   ]
  },
  {
   "cell_type": "code",
   "execution_count": 2,
   "id": "2030c520",
   "metadata": {},
   "outputs": [
    {
     "name": "stdout",
     "output_type": "stream",
     "text": [
      "Defaulting to user installation because normal site-packages is not writeable\n",
      "Requirement already satisfied: ucimlrepo in c:\\users\\yash patel\\appdata\\roaming\\python\\python311\\site-packages (0.0.7)\n",
      "Requirement already satisfied: pandas>=1.0.0 in c:\\programdata\\anaconda3\\lib\\site-packages (from ucimlrepo) (2.1.4)\n",
      "Requirement already satisfied: certifi>=2020.12.5 in c:\\programdata\\anaconda3\\lib\\site-packages (from ucimlrepo) (2024.2.2)\n",
      "Requirement already satisfied: numpy<2,>=1.23.2 in c:\\programdata\\anaconda3\\lib\\site-packages (from pandas>=1.0.0->ucimlrepo) (1.26.4)\n",
      "Requirement already satisfied: python-dateutil>=2.8.2 in c:\\programdata\\anaconda3\\lib\\site-packages (from pandas>=1.0.0->ucimlrepo) (2.8.2)\n",
      "Requirement already satisfied: pytz>=2020.1 in c:\\programdata\\anaconda3\\lib\\site-packages (from pandas>=1.0.0->ucimlrepo) (2023.3.post1)\n",
      "Requirement already satisfied: tzdata>=2022.1 in c:\\programdata\\anaconda3\\lib\\site-packages (from pandas>=1.0.0->ucimlrepo) (2023.3)\n",
      "Requirement already satisfied: six>=1.5 in c:\\programdata\\anaconda3\\lib\\site-packages (from python-dateutil>=2.8.2->pandas>=1.0.0->ucimlrepo) (1.16.0)\n"
     ]
    }
   ],
   "source": [
    "!pip install ucimlrepo"
   ]
  },
  {
   "cell_type": "code",
   "execution_count": null,
   "id": "e4d64b07",
   "metadata": {},
   "outputs": [],
   "source": [
    "import seaborn as sns\n",
    "import numpy as np\n",
    "import matplotlib.pyplot as plt\n",
    "import pandas as pd\n",
    "from sklearn.neighbors import KNeighborsClassifier\n",
    "from sklearn.model_selection import train_test_split\n",
    "import lime\n",
    "import lime.lime_tabular\n",
    "from sklearn.metrics import classification_report, accuracy_score, confusion_matrix, precision_recall_fscore_support, precision_recall_curve"
   ]
  },
  {
   "cell_type": "code",
   "execution_count": null,
   "id": "03275d8f",
   "metadata": {},
   "outputs": [],
   "source": [
    "from ucimlrepo import fetch_ucirepo \n",
    "car_evaluation = fetch_ucirepo(id=19) \n",
    "\n",
    "X = car_evaluation.data.features\n",
    "y = car_evaluation.data.targets"
   ]
  },
  {
   "cell_type": "code",
   "execution_count": null,
   "id": "10232e6c",
   "metadata": {},
   "outputs": [],
   "source": [
    "df = X\n",
    "df['Output'] = y"
   ]
  },
  {
   "cell_type": "code",
   "execution_count": null,
   "id": "ecd8c944",
   "metadata": {},
   "outputs": [],
   "source": [
    "df.head()"
   ]
  },
  {
   "cell_type": "code",
   "execution_count": null,
   "id": "8f8adb0e",
   "metadata": {},
   "outputs": [],
   "source": [
    "df.isnull().sum()"
   ]
  },
  {
   "cell_type": "code",
   "execution_count": null,
   "id": "12c8f7c3",
   "metadata": {},
   "outputs": [],
   "source": [
    "for i in df.columns:\n",
    "    print(i)\n",
    "    print(df[i].unique())"
   ]
  },
  {
   "cell_type": "code",
   "execution_count": null,
   "id": "616c89f9",
   "metadata": {},
   "outputs": [],
   "source": [
    "from sklearn.preprocessing import LabelEncoder"
   ]
  },
  {
   "cell_type": "code",
   "execution_count": null,
   "id": "f14f1ca8",
   "metadata": {},
   "outputs": [],
   "source": [
    "le = LabelEncoder()\n",
    "for i in df.columns:\n",
    "    print(i)\n",
    "    print(df[i].unique())\n",
    "    print('After Encoding')\n",
    "    df[i] = le.fit_transform(df[i])\n",
    "    print(i)\n",
    "    print(df[i].unique())"
   ]
  },
  {
   "cell_type": "code",
   "execution_count": null,
   "id": "d48d83fb",
   "metadata": {},
   "outputs": [],
   "source": [
    "for i in df.columns:\n",
    "    sns.histplot(df[i],kde=True)\n",
    "    plt.show()"
   ]
  },
  {
   "cell_type": "code",
   "execution_count": null,
   "id": "c383b210",
   "metadata": {},
   "outputs": [],
   "source": [
    "sns.pairplot(df)"
   ]
  },
  {
   "cell_type": "code",
   "execution_count": null,
   "id": "275ed11a",
   "metadata": {},
   "outputs": [],
   "source": [
    "X_train,X_test,y_train,y_test = train_test_split(X,y,random_state=42,test_size=0.25)"
   ]
  },
  {
   "cell_type": "code",
   "execution_count": null,
   "id": "e9381755",
   "metadata": {},
   "outputs": [],
   "source": [
    "model = KNeighborsClassifier(n_neighbors=3)"
   ]
  },
  {
   "cell_type": "code",
   "execution_count": null,
   "id": "81180e7e",
   "metadata": {},
   "outputs": [],
   "source": [
    "model.fit(X_train,y_train)"
   ]
  },
  {
   "cell_type": "code",
   "execution_count": null,
   "id": "b0695027",
   "metadata": {},
   "outputs": [],
   "source": [
    "y_pred = model.predict(X_test)"
   ]
  },
  {
   "cell_type": "code",
   "execution_count": null,
   "id": "3401d1fd",
   "metadata": {},
   "outputs": [],
   "source": [
    "sns.heatmap(confusion_matrix(y_test,y_pred),annot=True)"
   ]
  },
  {
   "cell_type": "code",
   "execution_count": null,
   "id": "c285292f",
   "metadata": {},
   "outputs": [],
   "source": [
    "precision, recall, fscore, _ = precision_recall_fscore_support(y_test, y_pred)\n",
    "print(\"Precision \\n\", precision)\n",
    "print(\"\\nRecall \\n\", recall)\n",
    "print(\"\\nF-score \\n\", fscore)"
   ]
  },
  {
   "cell_type": "code",
   "execution_count": null,
   "id": "3e43aec6",
   "metadata": {},
   "outputs": [],
   "source": [
    "print('Accuracy: ',np.round(accuracy_score(y_test,y_pred)*100),'%')"
   ]
  },
  {
   "cell_type": "code",
   "execution_count": null,
   "id": "840c362c",
   "metadata": {},
   "outputs": [],
   "source": [
    "from sklearn.metrics import classification_report"
   ]
  },
  {
   "cell_type": "code",
   "execution_count": null,
   "id": "89ce91cd",
   "metadata": {},
   "outputs": [],
   "source": [
    "print(classification_report(y_test,y_pred))"
   ]
  },
  {
   "cell_type": "code",
   "execution_count": null,
   "id": "a893ad4c-73d3-44f9-8eb4-19ece96eda9a",
   "metadata": {},
   "outputs": [],
   "source": [
    "X_test.shape"
   ]
  },
  {
   "cell_type": "code",
   "execution_count": null,
   "id": "ba13aec5-299c-47ea-a846-777c6b5230cf",
   "metadata": {},
   "outputs": [],
   "source": [
    "import ipywidgets as widgets\n",
    "\n",
    "# Create a simple HBox\n",
    "hbox = widgets.HBox([widgets.Text(value='Hello'), widgets.Button(description='Click me')])\n",
    "display(hbox)"
   ]
  },
  {
   "cell_type": "code",
   "execution_count": null,
   "id": "c9656d5b",
   "metadata": {},
   "outputs": [],
   "source": [
    "import shap"
   ]
  },
  {
   "cell_type": "code",
   "execution_count": null,
   "id": "ce134fca-63a4-41a0-a172-0b9e0e93f0da",
   "metadata": {},
   "outputs": [],
   "source": [
    "explainer = shap.Explainer(model.predict_proba, X_train[:100])\n",
    "shap_values = explainer(X_test[:100])"
   ]
  },
  {
   "cell_type": "code",
   "execution_count": null,
   "id": "47e0092a-3d8b-4f60-9cc2-65858b854092",
   "metadata": {},
   "outputs": [],
   "source": [
    "shap_values.shape"
   ]
  },
  {
   "cell_type": "code",
   "execution_count": null,
   "id": "7bdb89aa-7214-4abd-b604-0ead3ba41738",
   "metadata": {},
   "outputs": [],
   "source": [
    "shap_values[0,0]"
   ]
  },
  {
   "cell_type": "code",
   "execution_count": null,
   "id": "77bd1834-e74c-4e76-9f31-d5d1f4da9829",
   "metadata": {},
   "outputs": [],
   "source": [
    "explainer = shap.KernelExplainer(model.predict_proba, X_train)\n",
    "shap_values = explainer.shap_values(X_test[:100,:])\n",
    "shap_values.shape"
   ]
  },
  {
   "cell_type": "code",
   "execution_count": null,
   "id": "3d552e98-7e06-4b5f-a913-6624bde2bda7",
   "metadata": {},
   "outputs": [],
   "source": [
    "shap.plots.waterfall(shap_values[0])"
   ]
  },
  {
   "cell_type": "code",
   "execution_count": null,
   "id": "a6ef8dda-49de-44ed-a75e-487ffbdfa41d",
   "metadata": {},
   "outputs": [],
   "source": []
  }
 ],
 "metadata": {
  "kernelspec": {
   "display_name": "Python 3 (ipykernel)",
   "language": "python",
   "name": "python3"
  },
  "language_info": {
   "codemirror_mode": {
    "name": "ipython",
    "version": 3
   },
   "file_extension": ".py",
   "mimetype": "text/x-python",
   "name": "python",
   "nbconvert_exporter": "python",
   "pygments_lexer": "ipython3",
   "version": "3.11.7"
  }
 },
 "nbformat": 4,
 "nbformat_minor": 5
}
