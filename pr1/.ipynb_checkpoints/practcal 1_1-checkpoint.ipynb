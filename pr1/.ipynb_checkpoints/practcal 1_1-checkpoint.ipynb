{
 "cells": [
  {
   "cell_type": "code",
   "execution_count": 1,
   "id": "ab4d9c06-dd16-4047-ae6c-6d00181d830e",
   "metadata": {},
   "outputs": [],
   "source": [
    "import pandas as pd\n",
    "import numpy as np \n",
    "import seaborn as sns\n",
    "import matplotlib.pyplot as plt\n",
    "%matplotlib inline"
   ]
  },
  {
   "cell_type": "code",
   "execution_count": 3,
   "id": "bf6c0afe-5a49-48eb-b31a-f84c687421e2",
   "metadata": {},
   "outputs": [
    {
     "name": "stdout",
     "output_type": "stream",
     "text": [
      "[0 0 0 0 0]\n"
     ]
    }
   ],
   "source": [
    "ar1 = np.zeros(5,dtype=np.int32)\n",
    "print(ar1)"
   ]
  },
  {
   "cell_type": "code",
   "execution_count": 6,
   "id": "410fcb1a-7cec-4cc4-b4a3-41e5388400fa",
   "metadata": {},
   "outputs": [
    {
     "name": "stdout",
     "output_type": "stream",
     "text": [
      "Equation for Arithmetic Progression\n",
      "An = a + (n-1)d\n",
      "[ 1  2  3  4  5  6  7  8  9 10]\n",
      "[ 3  4  5  6  7  8  9 10 11 12]\n"
     ]
    }
   ],
   "source": [
    "# Arithmetic Progression\n",
    "print(\"Equation for Arithmetic Progression\")\n",
    "print(\"An = a + (n-1)d\")\n",
    "ar1 = np.arange(1,11,dtype=int)\n",
    "print(ar1)\n",
    "diff = 2\n",
    "ar1 = ar1+diff\n",
    "print(ar1)"
   ]
  },
  {
   "cell_type": "code",
   "execution_count": null,
   "id": "ca3d81dc-1459-4352-bb02-c7a310cadce9",
   "metadata": {},
   "outputs": [],
   "source": []
  }
 ],
 "metadata": {
  "kernelspec": {
   "display_name": "Python 3 (ipykernel)",
   "language": "python",
   "name": "python3"
  },
  "language_info": {
   "codemirror_mode": {
    "name": "ipython",
    "version": 3
   },
   "file_extension": ".py",
   "mimetype": "text/x-python",
   "name": "python",
   "nbconvert_exporter": "python",
   "pygments_lexer": "ipython3",
   "version": "3.11.7"
  }
 },
 "nbformat": 4,
 "nbformat_minor": 5
}
