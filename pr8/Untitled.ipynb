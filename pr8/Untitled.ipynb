{
 "cells": [
  {
   "cell_type": "code",
   "execution_count": 1,
   "id": "960c5e23-ecb7-4166-bd70-b2e3c9fe142e",
   "metadata": {},
   "outputs": [
    {
     "name": "stdout",
     "output_type": "stream",
     "text": [
      "Defaulting to user installation because normal site-packages is not writeable\n",
      "Collecting gym\n",
      "  Downloading gym-0.26.2.tar.gz (721 kB)\n",
      "     ---------------------------------------- 0.0/721.7 kB ? eta -:--:--\n",
      "     - ------------------------------------- 30.7/721.7 kB 1.3 MB/s eta 0:00:01\n",
      "     - ------------------------------------- 30.7/721.7 kB 1.3 MB/s eta 0:00:01\n",
      "     ---- -------------------------------- 92.2/721.7 kB 751.6 kB/s eta 0:00:01\n",
      "     ---- -------------------------------- 92.2/721.7 kB 751.6 kB/s eta 0:00:01\n",
      "     -------- --------------------------- 163.8/721.7 kB 701.4 kB/s eta 0:00:01\n",
      "     -------- --------------------------- 163.8/721.7 kB 701.4 kB/s eta 0:00:01\n",
      "     ---------- ------------------------- 204.8/721.7 kB 623.6 kB/s eta 0:00:01\n",
      "     ----------- ------------------------ 225.3/721.7 kB 599.0 kB/s eta 0:00:01\n",
      "     -------------- --------------------- 286.7/721.7 kB 655.2 kB/s eta 0:00:01\n",
      "     --------------- -------------------- 307.2/721.7 kB 633.2 kB/s eta 0:00:01\n",
      "     ----------------- ------------------ 358.4/721.7 kB 696.3 kB/s eta 0:00:01\n",
      "     ---------------------- ------------- 460.8/721.7 kB 801.7 kB/s eta 0:00:01\n",
      "     ---------------------------- ------- 563.2/721.7 kB 930.9 kB/s eta 0:00:01\n",
      "     -------------------------------- --- 645.1/721.7 kB 967.8 kB/s eta 0:00:01\n",
      "     -------------------------------------  716.8/721.7 kB 1.0 MB/s eta 0:00:01\n",
      "     -------------------------------------  716.8/721.7 kB 1.0 MB/s eta 0:00:01\n",
      "     ------------------------------------ 721.7/721.7 kB 948.6 kB/s eta 0:00:00\n",
      "  Installing build dependencies: started\n",
      "  Installing build dependencies: finished with status 'done'\n",
      "  Getting requirements to build wheel: started\n",
      "  Getting requirements to build wheel: finished with status 'done'\n",
      "  Preparing metadata (pyproject.toml): started\n",
      "  Preparing metadata (pyproject.toml): finished with status 'done'\n",
      "Requirement already satisfied: numpy>=1.18.0 in c:\\programdata\\anaconda3\\lib\\site-packages (from gym) (1.26.4)\n",
      "Requirement already satisfied: cloudpickle>=1.2.0 in c:\\programdata\\anaconda3\\lib\\site-packages (from gym) (2.2.1)\n",
      "Collecting gym-notices>=0.0.4 (from gym)\n",
      "  Downloading gym_notices-0.0.8-py3-none-any.whl.metadata (1.0 kB)\n",
      "Downloading gym_notices-0.0.8-py3-none-any.whl (3.0 kB)\n",
      "Building wheels for collected packages: gym\n",
      "  Building wheel for gym (pyproject.toml): started\n",
      "  Building wheel for gym (pyproject.toml): finished with status 'done'\n",
      "  Created wheel for gym: filename=gym-0.26.2-py3-none-any.whl size=827627 sha256=1cf7ecced698f53f74aa994dcacc06f7964a596891a6f28985cf2191a8fe1a55\n",
      "  Stored in directory: c:\\users\\yash patel\\appdata\\local\\pip\\cache\\wheels\\1c\\77\\9e\\9af5470201a0b0543937933ee99ba884cd237d2faefe8f4d37\n",
      "Successfully built gym\n",
      "Installing collected packages: gym-notices, gym\n",
      "Successfully installed gym-0.26.2 gym-notices-0.0.8\n"
     ]
    }
   ],
   "source": [
    "!pip install gym"
   ]
  },
  {
   "cell_type": "code",
   "execution_count": 6,
   "id": "f741cb7a-bd06-45c6-b37a-b1044345f670",
   "metadata": {},
   "outputs": [
    {
     "name": "stdout",
     "output_type": "stream",
     "text": [
      "Action Space:  Discrete(4)\n",
      "State Space:  Discrete(16)\n"
     ]
    }
   ],
   "source": [
    "import gym\n",
    "\n",
    "env = gym.make('FrozenLake-v1', is_slippery=False)\n",
    "\n",
    "action_space = 4\n",
    "observation_space = 16\n",
    "\n",
    "print(\"Action Space: \", env.action_space)\n",
    "print(\"State Space: \", env.observation_space)"
   ]
  },
  {
   "cell_type": "code",
   "execution_count": 7,
   "id": "1d469913-bbc1-41f8-88fe-b0eed959e0c9",
   "metadata": {},
   "outputs": [],
   "source": [
    "import numpy as np\n",
    "Q_table = np.zeros([env.observation_space.n, env.action_space.n])\n",
    "\n",
    "alpha = 0.1\n",
    "gamma = 0.99\n",
    "epsilon = 1\n",
    "epsilon_decay = 0.995\n",
    "min_epsilon = 0.01\n",
    "episodes = 10000\n",
    "max_steps = 100"
   ]
  },
  {
   "cell_type": "code",
   "execution_count": 8,
   "id": "b680d648-7ff7-4ad7-9d2f-559f19d8cd3f",
   "metadata": {},
   "outputs": [],
   "source": [
    "def choose_action(state, Q_table, epsilon):\n",
    "    if np.random.uniform(0, 1) < epsilon:\n",
    "        action = env.action_space.sample()\n",
    "    else:\n",
    "        action = np.argmax(Q_table[state])\n",
    "    return action\n",
    "\n",
    "def update_q_table(Q_table, state, action, reward, next_state, alpha, gamma):\n",
    "    best_next_action = np.argmax(Q_table[next_state])\n",
    "    Q_table[state, action] = Q_table[state, action] + alpha * (reward + gamma * Q_table[next_state, best_next_action] - Q_table[state, action])"
   ]
  },
  {
   "cell_type": "code",
   "execution_count": 9,
   "id": "bc3c6e4f-9a3b-4ad1-9e81-4a4119c5a546",
   "metadata": {},
   "outputs": [
    {
     "name": "stderr",
     "output_type": "stream",
     "text": [
      "C:\\Users\\YASH PATEL\\AppData\\Roaming\\Python\\Python311\\site-packages\\gym\\utils\\passive_env_checker.py:233: DeprecationWarning: `np.bool8` is a deprecated alias for `np.bool_`.  (Deprecated NumPy 1.24)\n",
      "  if not isinstance(terminated, (bool, np.bool8)):\n"
     ]
    },
    {
     "name": "stdout",
     "output_type": "stream",
     "text": [
      "Training finished.\n"
     ]
    }
   ],
   "source": [
    "rewards = []\n",
    "\n",
    "for episode in range(episodes):\n",
    "    state = env.reset()[0]  # Reset environment at the beginning of each episode\n",
    "    total_reward = 0\n",
    "    done = False\n",
    "    \n",
    "    for step in range(max_steps):\n",
    "        action = choose_action(state, Q_table, epsilon)\n",
    "        next_state, reward, done, _, _ = env.step(action)\n",
    "        \n",
    "        update_q_table(Q_table, state, action, reward, next_state, alpha, gamma)\n",
    "        \n",
    "        state = next_state\n",
    "        total_reward += reward\n",
    "        \n",
    "        if done:\n",
    "            break\n",
    "    \n",
    "    rewards.append(total_reward)\n",
    "    epsilon = max(min_epsilon, epsilon * epsilon_decay)\n",
    "\n",
    "print(\"Training finished.\")\n"
   ]
  },
  {
   "cell_type": "code",
   "execution_count": null,
   "id": "8a5beb74-f3d6-4e6e-ae7b-0f50ce364464",
   "metadata": {},
   "outputs": [],
   "source": [
    "# Test the agent's performance\n",
    "def evaluate_agent(Q_table, episodes=100):\n",
    "    total_rewards = 0\n",
    "    \n",
    "    for episode in range(episodes):\n",
    "        state = env.reset()[0]\n",
    "        done = False\n",
    "        total_reward = 0\n",
    "        \n",
    "        while not done:\n",
    "            action = np.argmax(Q_table[state])  # Always choose the action with the highest Q-value\n",
    "            next_state, reward, done, _, _ = env.step(action)\n",
    "            total_reward += reward\n",
    "            state = next_state\n",
    "        \n",
    "        total_rewards += total_reward\n",
    "    \n",
    "    avg_reward = total_rewards / episodes\n",
    "    return avg_reward\n",
    "\n",
    "avg_reward = evaluate_agent(Q_table)\n",
    "print(f\"Average reward after training: {avg_reward}\")\n"
   ]
  },
  {
   "cell_type": "code",
   "execution_count": null,
   "id": "891e45f6-6560-4d3f-9c1c-1f56e8bf0993",
   "metadata": {},
   "outputs": [],
   "source": [
    "# Example of experimenting with different values\n",
    "# Set different values for alpha, gamma, or epsilon and compare average rewards\n",
    "alpha_values = [0.1, 0.5, 0.9]\n",
    "gamma_values = [0.9, 0.95, 0.99]\n",
    "epsilon_values = [1.0, 0.5, 0.1]\n",
    "\n",
    "for alpha in alpha_values:\n",
    "    for gamma in gamma_values:\n",
    "        for epsilon in epsilon_values:\n",
    "            # Repeat the training and evaluation process for different hyperparameters\n",
    "            # Compare average rewards or performance metrics\n",
    "            pass\n"
   ]
  },
  {
   "cell_type": "code",
   "execution_count": null,
   "id": "b72129f2-081e-4b6d-95b0-246d87f0c1ab",
   "metadata": {},
   "outputs": [],
   "source": [
    "# Random policy (baseline method)\n",
    "def random_agent(episodes=100):\n",
    "    total_rewards = 0\n",
    "    \n",
    "    for episode in range(episodes):\n",
    "        state = env.reset()[0]\n",
    "        done = False\n",
    "        total_reward = 0\n",
    "        \n",
    "        while not done:\n",
    "            action = env.action_space.sample()  # Take random action\n",
    "            next_state, reward, done, _, _ = env.step(action)\n",
    "            total_reward += reward\n",
    "            state = next_state\n",
    "        \n",
    "        total_rewards += total_reward\n",
    "    \n",
    "    avg_reward = total_rewards / episodes\n",
    "    return avg_reward\n",
    "\n",
    "random_reward = random_agent()\n",
    "print(f\"Average reward of random agent: {random_reward}\")\n"
   ]
  },
  {
   "cell_type": "code",
   "execution_count": null,
   "id": "d270b6f4-a30f-42c6-bbcd-2a65cbe0eefe",
   "metadata": {},
   "outputs": [],
   "source": []
  }
 ],
 "metadata": {
  "kernelspec": {
   "display_name": "Python 3 (ipykernel)",
   "language": "python",
   "name": "python3"
  },
  "language_info": {
   "codemirror_mode": {
    "name": "ipython",
    "version": 3
   },
   "file_extension": ".py",
   "mimetype": "text/x-python",
   "name": "python",
   "nbconvert_exporter": "python",
   "pygments_lexer": "ipython3",
   "version": "3.11.7"
  }
 },
 "nbformat": 4,
 "nbformat_minor": 5
}
